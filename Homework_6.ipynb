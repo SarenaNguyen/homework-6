{
  "nbformat": 4,
  "nbformat_minor": 0,
  "metadata": {
    "kernelspec": {
      "display_name": "Python 3",
      "language": "python",
      "name": "python3"
    },
    "language_info": {
      "codemirror_mode": {
        "name": "ipython",
        "version": 3
      },
      "file_extension": ".py",
      "mimetype": "text/x-python",
      "name": "python",
      "nbconvert_exporter": "python",
      "pygments_lexer": "ipython3",
      "version": "3.8.5"
    },
    "colab": {
      "name": "Homework-6.ipynb",
      "provenance": [],
      "collapsed_sections": []
    }
  },
  "cells": [
    {
      "cell_type": "markdown",
      "metadata": {
        "id": "kWNo9Is1TzpJ"
      },
      "source": [
        "# Homework 6\n",
        "\n",
        "## Modeling thermal effects in the battery Single Particle Model\n",
        "\n",
        "### Suggested due date: before midnight on Thursday, December 10."
      ]
    },
    {
      "cell_type": "markdown",
      "metadata": {
        "id": "-jW2sjFaTzpK"
      },
      "source": [
        "For this assignment we are going to model the evolution of the temperature in our battery single particle model.  Our model will include the following phenomena:\n",
        "\n",
        "- Ohmic (Joule) heating due to electronic current in cathode and anode solid phases\n",
        "- Ohmic (Joule) heating due to ionic current in the electrolyte phase in the anode, cathode, and separator pores.\n",
        "- Heating due to interface reactions in the anode and cathode (chemical and electric energy components)\n",
        "- Conduction heat transfer between different components (anode, separator, cathode)\n",
        "- Convection heat transfer at the battery boundaries (anode surface and cathode surface)\n",
        "- Radiation heat transfer at the battery boundaries (anode surface and cathode surface)\n",
        "\n",
        "\n",
        "The needed parameters have all been added to the battery `input` file, and calculated as needed in the battery `init` file.  I suggest you read through these files to understand what these parameters represent.\n",
        "\n",
        "I have also done many of the preliminary calculations needed for your thermal model, in the `function` file.  What is left for you to do is to calculate the volumetric heat generation term, `Q_XX`, where `XX` represents a given phenomena from the bulleted list above.\n",
        "\n",
        "For the single particle model, we have only three nodes (anode, electrolyte separator, and cathode).  For our thermal model, the, we track a single temperature for each.\n",
        "\n",
        "You can go ahead and code all the `Q_XX` terms at one time, but we will add these phenomena one at a time, using a series of 'flags' that are set to either 0 or 1.  We will simulate a single charge curve at varying rates, to see the relative impact of each phenomenon, and how it depends on the charging rate of the battery.\n",
        "\n",
        "Note that there is some internal inconsistency, here: Many of the phenomena above (such as ohmic losses in the electrodes and electrolyte) are not actually incorporated into our battery model (the electrolyte potential, for example, is assumed to be constant at zero).  We also have not incorporated any balance equations for species. For this reason, we will not pay any attention to the cell voltage.\n",
        "\n",
        "Also, note that _many_ of these properties will vary as a funciton of temperature, in ways that would most certainly impact our temperature evolution.  Our work here will serve as a suitable first approximation, though.\n",
        "\n",
        "Lastly, FWIW, the included python files demonstrate some new tricks that you might find useful for your project, such as passing 'keywords' when you call a function, which are then passed to the `main` model function."
      ]
    },
    {
      "cell_type": "markdown",
      "metadata": {
        "id": "sUQpq3RsTzpK"
      },
      "source": [
        "# Working with this notebook.\n",
        "\n",
        "1. You should not touch any of the code in the workbook.  All of your coding will be added to the `battery_spm` python files.\n",
        "2. In this notebook, the only changes you will make are discussing the results.  Each discussion block is highlighted by <font color=\"red\">**red, bold text**</font>.  **Please leave these markers in (do not delete them)**, so that I can easily find your discussion entries.\n",
        "3. In your discussions, please refer to specific model equations or parameters from the battery spm code, to explain the trends that you see.  \n",
        "4. If you are making changes to your python code which you feel are not being reflected in these results, you might was to click `Kernel->Restart` (or `Kernel->Restart and Clear Output` or `Kernel->Restart and Run All`) up at the top of this page.  I have added a bunch of code below (all the `importlib.reload` stuff, below), such that you shouldn't need to.  But just in case...\n",
        "5. Finally, push all of your code (python files and this notebook) to your github repo and make a pull request, to submit.\n",
        "\n",
        "Good luck!"
      ]
    },
    {
      "cell_type": "markdown",
      "metadata": {
        "id": "e7TqtzJzTzpK"
      },
      "source": [
        "# Battery cycling function\n",
        "\n",
        "This function will call our battery model three times, for three different cycling rates (0.1 C, 1.0 C, and 10.0 C).  It will then plot the temperature profiles for the anode, separator, and cathode, as a function of time. Note that a charge at 0.1 C takes 100 times longer than one at 10 C."
      ]
    },
    {
      "cell_type": "code",
      "metadata": {
        "id": "_AGWqZ4yTzpK"
      },
      "source": [
        "# This will make it so that our notebook recognizes and reloads changes we have made in our python files:\n",
        "%load_ext autoreload\n",
        "%autoreload 2"
      ],
      "execution_count": null,
      "outputs": []
    },
    {
      "cell_type": "code",
      "metadata": {
        "id": "7OSapyusTzpK"
      },
      "source": [
        "import importlib\n",
        "def plot_function(ax,sol,ptr,rate):\n",
        "       \n",
        "    from matplotlib import pyplot as plt\n",
        "    ax.plot(sol.t, sol.y[ptr.T_an,:]-273)\n",
        "    ax.plot(sol.t, sol.y[ptr.T_elyte,:]-273)\n",
        "    ax.plot(sol.t, sol.y[ptr.T_ca,:]-273)\n",
        "        \n",
        "    ax.set_title('C-rate = '+str(rate)+'C',fontsize=14)\n",
        "    return ax\n",
        "    \n",
        "\n",
        "def cycle_function(flags):\n",
        "    from matplotlib import pyplot as plt\n",
        "\n",
        "    import battery_spm_init\n",
        "    importlib.reload(battery_spm_init)\n",
        "    from battery_spm_init import ptr\n",
        "    \n",
        "    import battery_spm_model\n",
        "    importlib.reload(battery_spm_model)\n",
        "    from battery_spm_model import cycle\n",
        "    \n",
        "    solution_01 = cycle(C_rate = 0.1, thermal_flags = flags)\n",
        "    \n",
        "    \n",
        "    import battery_spm_init\n",
        "    importlib.reload(battery_spm_init)\n",
        "    from battery_spm_init import ptr\n",
        "    \n",
        "    import battery_spm_model\n",
        "    importlib.reload(battery_spm_model)\n",
        "    from battery_spm_model import cycle\n",
        "    \n",
        "    solution_1 = cycle(C_rate = 1.1, thermal_flags = flags)\n",
        "\n",
        "\n",
        "    import battery_spm_init\n",
        "    importlib.reload(battery_spm_init)\n",
        "    from battery_spm_init import ptr\n",
        "    \n",
        "    import battery_spm_model\n",
        "    importlib.reload(battery_spm_model)\n",
        "    from battery_spm_model import cycle\n",
        "    \n",
        "    solution_10 = cycle(C_rate = 10, thermal_flags = flags)\n",
        "    \n",
        "    fig, axs = plt.subplots(1, 3, constrained_layout=False)\n",
        "    fig.set_size_inches((12,3))\n",
        "    axs[0] = plot_function(axs[0],solution_01,ptr,0.1)\n",
        "    axs[1] = plot_function(axs[1],solution_1,ptr,1.0)\n",
        "    axs[2] = plot_function(axs[2],solution_10,ptr,10)\n",
        "    axs[1].legend(['Anode temperature','Separator temperature', 'Cathode temperature'],frameon=False)\n",
        "    \n",
        "    fig.add_subplot(111, frameon=False)\n",
        "    plt.tick_params(labelcolor='none', top=False, bottom=False, left=False, right=False)\n",
        "    axs[0].set_ylabel('T (C)',fontsize=14)\n",
        "    \n",
        "    plt.xlabel('Time (s)', fontsize=16)\n"
      ],
      "execution_count": null,
      "outputs": []
    },
    {
      "cell_type": "markdown",
      "metadata": {
        "id": "V_evPJFgTzpK"
      },
      "source": [
        "# Okay, here is the actual assignment:\n",
        "## Part I: Baseline: No thermal effects\n",
        "We set all 'flag' values to zero, which sets all heat sources to zero.  Even if you have not added any code to the model, this part should run fine and give a constant T profile:"
      ]
    },
    {
      "cell_type": "code",
      "metadata": {
        "id": "q1O0wSlMTzpK",
        "colab": {
          "base_uri": "https://localhost:8080/",
          "height": 458
        },
        "outputId": "a456ca61-8339-4aa9-f24b-61ebd50654fc"
      },
      "source": [
        "class thermal_flags:\n",
        "    rxn = 0 # heat due to surface reactions\n",
        "    ohm_el = 0 # ohmic/Joule heating from electron conduction\n",
        "    ohm_io = 0 # ohmic/Joule heating from ion conduction\n",
        "    cond = 0 # Heat transfer via thermal conduciton\n",
        "    conv = 0 # Heat transfer via external convection\n",
        "    rad = 0 # Heat tranfer via external radiation\n",
        "    \n",
        "cycle_function(thermal_flags)"
      ],
      "execution_count": null,
      "outputs": [
        {
          "output_type": "error",
          "ename": "ModuleNotFoundError",
          "evalue": "ignored",
          "traceback": [
            "\u001b[0;31m---------------------------------------------------------------------------\u001b[0m",
            "\u001b[0;31mModuleNotFoundError\u001b[0m                       Traceback (most recent call last)",
            "\u001b[0;32m<ipython-input-3-a367af60f29e>\u001b[0m in \u001b[0;36m<module>\u001b[0;34m()\u001b[0m\n\u001b[1;32m      7\u001b[0m     \u001b[0mrad\u001b[0m \u001b[0;34m=\u001b[0m \u001b[0;36m0\u001b[0m \u001b[0;31m# Heat tranfer via external radiation\u001b[0m\u001b[0;34m\u001b[0m\u001b[0;34m\u001b[0m\u001b[0m\n\u001b[1;32m      8\u001b[0m \u001b[0;34m\u001b[0m\u001b[0m\n\u001b[0;32m----> 9\u001b[0;31m \u001b[0mcycle_function\u001b[0m\u001b[0;34m(\u001b[0m\u001b[0mthermal_flags\u001b[0m\u001b[0;34m)\u001b[0m\u001b[0;34m\u001b[0m\u001b[0;34m\u001b[0m\u001b[0m\n\u001b[0m",
            "\u001b[0;32m<ipython-input-2-bcb4ff549928>\u001b[0m in \u001b[0;36mcycle_function\u001b[0;34m(flags)\u001b[0m\n\u001b[1;32m     14\u001b[0m     \u001b[0;32mfrom\u001b[0m \u001b[0mmatplotlib\u001b[0m \u001b[0;32mimport\u001b[0m \u001b[0mpyplot\u001b[0m \u001b[0;32mas\u001b[0m \u001b[0mplt\u001b[0m\u001b[0;34m\u001b[0m\u001b[0;34m\u001b[0m\u001b[0m\n\u001b[1;32m     15\u001b[0m \u001b[0;34m\u001b[0m\u001b[0m\n\u001b[0;32m---> 16\u001b[0;31m     \u001b[0;32mimport\u001b[0m \u001b[0mbattery_spm_init\u001b[0m\u001b[0;34m\u001b[0m\u001b[0;34m\u001b[0m\u001b[0m\n\u001b[0m\u001b[1;32m     17\u001b[0m     \u001b[0mimportlib\u001b[0m\u001b[0;34m.\u001b[0m\u001b[0mreload\u001b[0m\u001b[0;34m(\u001b[0m\u001b[0mbattery_spm_init\u001b[0m\u001b[0;34m)\u001b[0m\u001b[0;34m\u001b[0m\u001b[0;34m\u001b[0m\u001b[0m\n\u001b[1;32m     18\u001b[0m     \u001b[0;32mfrom\u001b[0m \u001b[0mbattery_spm_init\u001b[0m \u001b[0;32mimport\u001b[0m \u001b[0mptr\u001b[0m\u001b[0;34m\u001b[0m\u001b[0;34m\u001b[0m\u001b[0m\n",
            "\u001b[0;31mModuleNotFoundError\u001b[0m: No module named 'battery_spm_init'",
            "",
            "\u001b[0;31m---------------------------------------------------------------------------\u001b[0;32m\nNOTE: If your import is failing due to a missing package, you can\nmanually install dependencies using either !pip or !apt.\n\nTo view examples of installing some common dependencies, click the\n\"Open Examples\" button below.\n\u001b[0;31m---------------------------------------------------------------------------\u001b[0m\n"
          ]
        }
      ]
    },
    {
      "cell_type": "markdown",
      "metadata": {
        "id": "ne-1QUtJTzpL"
      },
      "source": [
        "## Part II: Heat released by reactions\n",
        "\n",
        "The code already calculates $\\dot{s}_{k,{\\rm int}}$, the molar production of species due to interfacial reactions, and $e_k = h_k + z_kF\\phi_k$, the energy of each species (note that an electron is a specie!).  Fill in the equation `Q_rxn`, the volumetric heating rate (W/m$^3$) due to these reactions."
      ]
    },
    {
      "cell_type": "code",
      "metadata": {
        "id": "8Ib8V6wxTzpL"
      },
      "source": [
        "thermal_flags.rxn = 1 # This will stay at 1, from here on out.\n",
        "cycle_function(thermal_flags)\n",
        "\n",
        "#Lecture 26\n",
        "Q_rxn = -pars.A_ext*s_k*e_k  #W/m^3\n",
        "e_k = pars.h_k + z_k*F*phi_dl\n",
        "phi_dl = dSV_dt[ptr.phi_an] - phi_ca\n"
      ],
      "execution_count": null,
      "outputs": []
    },
    {
      "cell_type": "markdown",
      "metadata": {
        "id": "VGNtCeqrTzpL"
      },
      "source": [
        "### Discussion\n",
        "You should see a dramatic change, relative to Part I.  Discuss these results.  Are they believable?  Would this be a good result for the battery?  Why do we see these trends, and what do you predict will happen as we add in more thermal effects\n",
        "\n",
        "<font color='red'>[**Discuss right here**]</font>\n",
        "Compared to Part I, the temperature for the anode and cathode did not stay constant over the duration of the reaction. For all C-rates, the anode temperature rose as the time increased. For the lowest C-rate, the curve was linear but for higher values, the curve started to be more exponential. For the cathode, the temperature decreased at C-rate = 0.1C and increased for the other values. The separator temperature stayed the same for all rates.\n",
        "\n",
        "These values are believeable. There were no reactions occuring at the separator, allowing the temperature to stay the same. The reactions occuring at the anode are exothermic and higher cycling rates should show an faster increase in temperature. There is more heat generated with higher cycling rates, so cathode temperature would also increase. If more thermal effects are added, the temperature would increase at a faster rate. These are not great results becuase there is an increase in Q for both (j-1/2) and (j+1/2) allowing dE/dt to be lower.\n",
        "\n",
        "You should also see the temperature trend for the cathode switch, when going from 0.1C to 1.0C\n",
        "\n",
        "\n",
        "<font color='red'>[**Why is this?  Refer to the model equations that you added, to explain.**]</font>\n",
        "e_k represents the energy of each species. e_k = h_k + z_k*F*phi_k so the lower cycling rate gives a positive value while the higher values give a negative e_k value, creating a positive Q_rxn. The change in phi_k contributes to this."
      ]
    },
    {
      "cell_type": "markdown",
      "metadata": {
        "id": "NAURojfQTzpL"
      },
      "source": [
        "## Part III: Ohmic/Joule Heating\n",
        "\n",
        "### a. Electron conduction\n",
        "\n",
        "Add in the equation for the volumetric heating rate due to electron conduction, `Q_ohm_el`.  The code already has calculated `pars.R_el_electrode` for each electrode phase (`pars.R_el_an` and `pars.R_el_ca`), which are the _resistivities_ $\\rho_{\\rm el}$ (units: $\\Omega-m$).\n",
        "\n",
        "Because we have a single volume for each electrode, we know _a priori_ the electronic current in each electrode (hint: no calculations are needed, for both $i_{\\rm elec}$ in the electrodes and $i_{\\rm io}$ in the electrolyte phase)."
      ]
    },
    {
      "cell_type": "code",
      "metadata": {
        "id": "BRvGjMzQTzpL"
      },
      "source": [
        "thermal_flags.ohm_el = 1\n",
        "cycle_function(thermal_flags)\n",
        "\n",
        "# Lecture 25\n",
        "Q_ohm_el_an = pars.i_elec^2*pars.R_el_an\n",
        "Q_ohm_el_ca = pars.i_elec^2*pars.R_el_ca\n",
        "\n",
        "Q_ohm_el = pars.i_io^2*pars.R_el_electrode"
      ],
      "execution_count": null,
      "outputs": []
    },
    {
      "cell_type": "markdown",
      "metadata": {
        "id": "rl4ogqwpTzpL"
      },
      "source": [
        "### Discussion:\n",
        "\n",
        "Do you see any significant changes, relative to Part II?  You should not.  Why?  What does this say about electronic conduction, and which input parameter determined this?\n",
        "\n",
        "<font color='red'>[**Discuss here**]</font>\n",
        "No, the graphs have the same trends for both parts. This says that electronic conduction plays a small role in determining system temperature so it is could be considered negligible in future models. The input parameter that determined this was the resistance. The values for it were small and did not generate much heat."
      ]
    },
    {
      "cell_type": "markdown",
      "metadata": {
        "id": "WY7jzv5tTzpL"
      },
      "source": [
        "### b. Ion conduction\n",
        "\n",
        "Repeat part 1, but for Joule heating due to ion conduction, `Q_ohm_io`.  Note that there is ion conduction in the two electrodes _and_ in the electrolyte separator."
      ]
    },
    {
      "cell_type": "code",
      "metadata": {
        "id": "-HG5vHELTzpL"
      },
      "source": [
        "thermal_flags.ohm_io = 1\n",
        "cycle_function(thermal_flags)\n",
        "\n",
        "Q_ohm_io_an = pars.i_ext^2*pars.R_io_an\n",
        "Q_ohm_io_ca = pars.i_ext^2*pars.R_io_ca\n",
        "\n",
        "Q_ohm_io_sep = pars.i_ext^2*pars.R_io_elyte\n"
      ],
      "execution_count": null,
      "outputs": []
    },
    {
      "cell_type": "markdown",
      "metadata": {
        "id": "0PkSkFDRTzpM"
      },
      "source": [
        "### Discussion:\n",
        "\n",
        "Do you see any significant changes, relative to Parts II and IIa?  Look closely - there should be some minor changes.  Why?  What does this say about ion conduction, and which input parameter determined this?\n",
        "\n",
        "Is there a larger impact for some C-rates, compared to others?  Why?\n",
        "\n",
        "<font color='red'>[**Discuss here**]</font>\n",
        "There is a minor change with the with the anode temperature in the C-rate = 10C graph. At 300s, the anode temperature is at ~350C as apposed to 300C. This says that ion conduction has a minor thermal affect on anode systeams at higher cycling rates. The anode resistance parameter determined this and shows that its value increases with higher cycling rates. Higher C-rates generate more resistance over time."
      ]
    },
    {
      "cell_type": "markdown",
      "metadata": {
        "id": "0t_zF9OjTzpM"
      },
      "source": [
        "## Part IV: Thermal conduction\n",
        "\n",
        "Now implement thermal conductivity equations.  This is done in two steps, in the code:\n",
        "\n",
        "1. Calculate the conduction heat transfer fluxes `Q_cond_an` and `Q_cond_ca`:\n",
        "- From the anode to the separator: $\\dot{Q}^{\\prime\\prime}_{\\rm cond,an} = -\\lambda_avg\\nabla T$ (W/m$^2$)\n",
        "- From the anode to the separator: $\\dot{Q}^{\\prime\\prime}_{\\rm cond,ca} = -\\lambda_avg\\nabla T$ (W/m$^2$)\n",
        "\n",
        "For both calculations, the volume-weighted average thermal conductivity `lambda` at the relevant electrode/separator interface and the distance between the two volume centers `dyInv` are already calculated for you. \n",
        "\n",
        "2. Once the relevant heat fluxes are calculated, calculate the relevant volumetric heat generation terms due to conduction `Q_cond` for the anode, separator, and cathode."
      ]
    },
    {
      "cell_type": "code",
      "metadata": {
        "id": "8wLMw1x3TzpM"
      },
      "source": [
        "thermal_flags.cond = 1\n",
        "cycle_function(thermal_flags)\n",
        "\n",
        "q_cond_an = -lambda*v*g*deltaT\n",
        "q_cond_ca = -lambda*v*g*deltaT\n",
        "\n",
        "Q_cond_an = q_cond_an*dyInv_an\n",
        "Q_cond_ca = q_cond_ca*dyInv_ca\n",
        "Q_cond_sep = q_cond_sep*dyInv_sep"
      ],
      "execution_count": null,
      "outputs": []
    },
    {
      "cell_type": "markdown",
      "metadata": {
        "id": "mXx8NPd9TzpM"
      },
      "source": [
        "### Discussion:\n",
        "\n",
        "There should once again be a significant change, relative to Part III. You should see that the anode, separator, and cathode temperatures have all collapsed onto one another. Why is that?  What properties in our inputs lead to this behavior?\n",
        "\n",
        "What happens to the overall magnitude of the temperatures, relative to part III?  Does this make sense, based on our cell geometry?  What does it say about the \"thermal mass\" of each component?\n",
        "\n",
        "Do you thnk these results are accurate?  Why or why not?  Would _this_ be a good temperature profile, for a battery (i.e. would we want our battery to experience these temperatures?)\n",
        "\n",
        "<font color='red'>[**Discuss here**]</font>\n",
        "This occurred because the heat from conduction is a significant factor in determining the thermal effects. The two volume centers incorporate all thermal effects between each electrode and separator as opposed to just the interface. dyInv is a value that allows the heat of conduction to be larger than any other Q. \n",
        "The temperature values are half of that of the previous parts. The overall dT/dt value is still positive but is smaller. The thermal mass is greater for each component, requiring more energy to raise the temperature. \n",
        "Yes, if this Q_cond affects the area between the electrode and separator, all of the values for the anode, cathode, and separator should be the same. It is treated as one large unit with a larger mass, keeping the temperature lower. This would be a good temperature model because the temperatures experienced are lower."
      ]
    },
    {
      "cell_type": "markdown",
      "metadata": {
        "id": "Cpa7plMzTzpM"
      },
      "source": [
        "## Part V: Radiation heat transfer\n",
        "\n",
        "Now implement radiation heat transfer at the battery surface (anode and cathode bondaries).\n",
        "\\begin{equation}\n",
        "    \\dot{Q}^{\\prime\\prime}_{\\rm rad} = \\sigma\\epsilon\\left(T^4_{\\rm amb} - T^4_{\\rm surf}\\right)\\frac{A}{V}\n",
        "\\end{equation}\n",
        "The model code has already defined `sigma`, the Stefan-Boltzmann constant, plus `pars.emmissivity`, the surface emmissivity ($\\epsilon$), the ambient temperature `pars.T_amb`, and `pars.A_ext`, the surface area per unit volume for both electrodes, (i.e. $\\frac{A}{V}$ in the equation above. Tthe same value is used for both electrodes).\n",
        "\n",
        "Calculate `Q_rad`, the total heat transferred to each component per unit volume.\n"
      ]
    },
    {
      "cell_type": "code",
      "metadata": {
        "id": "ZojCZTSYTzpM"
      },
      "source": [
        "thermal_flags.rad = 1\n",
        "cycle_function(thermal_flags)\n",
        "\n",
        "# Should all generate the same value\n",
        "Q_rad_an = sigma*pars.emmissivity*((pars.T_amb)^4-T_surf^4)*(pars.A_ext/V)\n",
        "Q_rad_ca = sigma*pars.emmissivity*((pars.T_amb)^4-T_surf^4)*(pars.A_ext/V)\n",
        "Q_rad_sep = sigma*pars.emmissivity*((pars.T_amb)^4-T_surf^4)*(pars.A_ext/V)"
      ],
      "execution_count": null,
      "outputs": []
    },
    {
      "cell_type": "markdown",
      "metadata": {
        "id": "F84hzcbaTzpM"
      },
      "source": [
        "### Discussion \n",
        "\n",
        "<font color='red'>[**Discuss the results here**]</font>\n",
        "\n",
        "What do you notice?  Is this believable?  Why do some C-rates reach a steady-state value, and some do not?\n",
        "\n",
        "For those that do reach a steady-state temperature, what determines the steady state value?  What processes are being balanced, at steady state?\n",
        "\n",
        "Higher C-rates produce more linear temperature curves. The lower rates have sharper temperature increases in short time spans and plateau at a certain point. The point is at later times for higher cycling rates. The temperature also reaches higher values before leveling out. This is beliveable because the higher cycling rates can have larger T_surf values from the higher Q_rad values. Some do not reach a steady-state value becuase the emmissivity varies at different cycling rates.\n",
        "The T_amb and T-surf values are being balanced at SS. The T_amn determines the SS value.\n",
        "\n"
      ]
    },
    {
      "cell_type": "markdown",
      "metadata": {
        "id": "K5eyiZ8-TzpM"
      },
      "source": [
        "## Part VI: Convection heat transfer.\n",
        "\n",
        "Now we'll turn radiation back off, and instead model convective heat transfer at the boundary.  Similar to above, calculate a `Q_rad` value: \n",
        "\\begin{equation}\n",
        "    \\dot{Q}^{\\prime\\prime}_{\\rm conv} = h_{\\rm conv}\\left(T_{\\rm amb} - T_{\\rm surf}\\right)\\frac{A}{V}\n",
        "\\end{equation}\n",
        "where `pars.h_conv` is already defined for you (same value for anode and cathode)."
      ]
    },
    {
      "cell_type": "code",
      "metadata": {
        "id": "NipeadxsTzpM"
      },
      "source": [
        "thermal_flags.rad = 0\n",
        "thermal_flags.conv = 1\n",
        "cycle_function(thermal_flags)\n",
        "\n",
        "Q_conv_an = pars.h_conv*(pars.T_amb-T_surf)*(pars.A_ext/V)\n",
        "Q_conv_ca = pars.h_conv*(pars.T_amb-T_surf)*(pars.A_ext/V)\n",
        "Q_conv_sep = pars.h_conv*(pars.T_amb-T_surf)*(pars.A_ext/V)\n"
      ],
      "execution_count": null,
      "outputs": []
    },
    {
      "cell_type": "markdown",
      "metadata": {
        "id": "l_Uf1IXKTzpM"
      },
      "source": [
        "### Discussion \n",
        "\n",
        "<font color='red'>[**Discuss the results here**]</font>\n",
        "\n",
        "What do you notice?  What does this say about the relative influence of convection vs. radiation heat transfer, for the given input parameters?\n",
        "\n",
        "The temperature levels out at an earlier time with a lower max temperature value. The dT/dt value rises faster for all C-rates. This shows that the convection heat transfer values are very similar, but more extreme than the radiation values. They play a significant role in making the temperature plateau earlier. \n"
      ]
    },
    {
      "cell_type": "markdown",
      "metadata": {
        "id": "YzS3WLNKTzpM"
      },
      "source": [
        "## Part VII: Putting it all together\n",
        "\n",
        "Okay, finally, incorporate all thermal effects:"
      ]
    },
    {
      "cell_type": "code",
      "metadata": {
        "id": "H8n7pF7bTzpM"
      },
      "source": [
        "thermal_flags.rad = 1\n",
        "cycle_function(thermal_flags)\n",
        "\n",
        "Q_total_an = Q_cond_an + Q_rad_an + Q_conv_an + Q_ohm_el_an + Q_ohm_io_an + Q_rxn_int_an + Q_rxn_an\n",
        "Q_total_ca = Q_cond_ca + Q_rad_ca + Q_conv_ca + Q_ohm_el_ca + Q_ohm_io_ca + Q_rxn_int_ca + Q_rxn_ca\n",
        "Q_total_sep = Q_cond_sep + Q_rad_sep + Q_conv_sep + Q_ohm_el_sep + Q_ohm_io_sep + Q_rxn_int_sep + Q_rxn_sep"
      ],
      "execution_count": null,
      "outputs": []
    },
    {
      "cell_type": "markdown",
      "metadata": {
        "id": "cnpsSc2bTzpM"
      },
      "source": [
        "### Discussion\n",
        "\n",
        "Now that we have all thermal effects incorporated, answer a few final questions:\n",
        "\n",
        "1.  Would _this_ be a good temperature for our battery?\n",
        "\n",
        "<font color='red'>[**Discuss here**]</font>\n",
        "Yes, because the battery can only get to s certain temperature. The battery will also mainly operate at one temperature, leeping all of the other factors more consistent. The temperature is fairly close to room temp for lower C-rates, making it more applicable.\n",
        "\n",
        "2.  If we incorporated temperature dependent parameters, how do you think our results would change?  Be specific: which parameters would change, and how would this impact our various thermal terms (i.e. conduction, ohmic, etc...)\n",
        "\n",
        "Note: For some parameters (ahem, _species thermo_), we don't really have enough info to say exactly how the results would change.  Saying \"I don't know, but it would depend on X, Y, Z\" is perfectly fine.\n",
        "\n",
        "<font color='red'>[**Discuss here**]</font>\n",
        "If the bulk phase heat generation term was added to the model, the results would depend on the h_k value.\n",
        "\n",
        "The chemical energy of enthalpy of reaction would depend on the h_rxn value.\n",
        "\n",
        "3. Discuss the influence of C-rate on our battery's thermal response.  Is the relationship between C-rate and max temperature linear? (hint: it is not) Why do you think this is?  What about the dynamic response?  With increasing C-rate, we see that the battery takes _a greater fraction of the total charge time_ to reach steady state. Why is that?  Is the dynamic response actually slower at higher C-rate, or is there something else goign on?\n",
        "\n",
        "<font color='red'>[**Discuss here**]</font>\n",
        "\n",
        "Higher C-rate values allow the battery to reach higher temperatures and to take more time before reaching the max temp. It is not linear because the 1.0C is 100x faster than 0.1C. The dynamic response is slower."
      ]
    },
    {
      "cell_type": "markdown",
      "metadata": {
        "id": "NlugXtl8TzpM"
      },
      "source": [
        "# Thanks for a really great semester.  You've all worked incredibly hard, under difficult circumstances, and I've been impressed by all that you've learned, and sincerely enjoyed getting to spend Tuesdays and Thursdays with you!\n",
        "\n",
        "## Please feel free to stay in touch, after the semester is over.  I'll leave the Slack workspace open, so long as people are using it.\n",
        "\n",
        "## If there is any way I can be of use/assistance, either during your time at Mines or beyond, don't hesitate to reach out!  Slack is best, so long as the workspace remains open."
      ]
    },
    {
      "cell_type": "code",
      "metadata": {
        "id": "GyUFgo2HTzpM"
      },
      "source": [
        "Thank you!"
      ],
      "execution_count": null,
      "outputs": []
    }
  ]
}